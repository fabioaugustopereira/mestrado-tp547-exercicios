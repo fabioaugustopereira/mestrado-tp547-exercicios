{
  "nbformat": 4,
  "nbformat_minor": 0,
  "metadata": {
    "colab": {
      "provenance": [],
      "include_colab_link": true
    },
    "kernelspec": {
      "name": "python3",
      "display_name": "Python 3"
    },
    "language_info": {
      "name": "python"
    }
  },
  "cells": [
    {
      "cell_type": "markdown",
      "metadata": {
        "id": "view-in-github",
        "colab_type": "text"
      },
      "source": [
        "<a href=\"https://colab.research.google.com/github/fabioaugustopereira/mestrado-tp547-exercicios/blob/main/Lista_de_Exerc%C3%ADcios1.ipynb\" target=\"_parent\"><img src=\"https://colab.research.google.com/assets/colab-badge.svg\" alt=\"Open In Colab\"/></a>"
      ]
    },
    {
      "cell_type": "code",
      "execution_count": 1,
      "metadata": {
        "id": "J_G_EITDf9j-",
        "colab": {
          "base_uri": "https://localhost:8080/"
        },
        "outputId": "42f5fe1b-3f4a-4c90-9048-1798430304e3"
      },
      "outputs": [
        {
          "output_type": "stream",
          "name": "stdout",
          "text": [
            "Requirement already satisfied: numpy in /usr/local/lib/python3.10/dist-packages (1.25.2)\n",
            "Requirement already satisfied: matplotlib in /usr/local/lib/python3.10/dist-packages (3.7.1)\n",
            "Requirement already satisfied: contourpy>=1.0.1 in /usr/local/lib/python3.10/dist-packages (from matplotlib) (1.2.0)\n",
            "Requirement already satisfied: cycler>=0.10 in /usr/local/lib/python3.10/dist-packages (from matplotlib) (0.12.1)\n",
            "Requirement already satisfied: fonttools>=4.22.0 in /usr/local/lib/python3.10/dist-packages (from matplotlib) (4.49.0)\n",
            "Requirement already satisfied: kiwisolver>=1.0.1 in /usr/local/lib/python3.10/dist-packages (from matplotlib) (1.4.5)\n",
            "Requirement already satisfied: numpy>=1.20 in /usr/local/lib/python3.10/dist-packages (from matplotlib) (1.25.2)\n",
            "Requirement already satisfied: packaging>=20.0 in /usr/local/lib/python3.10/dist-packages (from matplotlib) (24.0)\n",
            "Requirement already satisfied: pillow>=6.2.0 in /usr/local/lib/python3.10/dist-packages (from matplotlib) (9.4.0)\n",
            "Requirement already satisfied: pyparsing>=2.3.1 in /usr/local/lib/python3.10/dist-packages (from matplotlib) (3.1.2)\n",
            "Requirement already satisfied: python-dateutil>=2.7 in /usr/local/lib/python3.10/dist-packages (from matplotlib) (2.8.2)\n",
            "Requirement already satisfied: six>=1.5 in /usr/local/lib/python3.10/dist-packages (from python-dateutil>=2.7->matplotlib) (1.16.0)\n"
          ]
        }
      ],
      "source": [
        "!pip install numpy\n",
        "!pip install matplotlib\n",
        "\n"
      ]
    },
    {
      "cell_type": "code",
      "source": [
        "# Importando as bibliiotecas\n",
        "import numpy as np\n",
        "import matplotlib.pyplot as plt\n"
      ],
      "metadata": {
        "id": "cKf5j4VJh4eV"
      },
      "execution_count": 2,
      "outputs": []
    },
    {
      "cell_type": "code",
      "source": [
        "# Questão 1\n",
        "#Caso1\n",
        "\n",
        "x=4\n",
        "x1=np.array([x])\n",
        "n=45\n",
        "a=5\n",
        "c=1\n",
        "m=(7)\n",
        "for i in range(n):\n",
        "    x=(a*x+c)%m\n",
        "    x1=np.append(x1,x)\n",
        "print(x1)\n",
        "ind=np.arange(n+1)\n",
        "plt.bar(ind, x1)\n",
        "plt.show()"
      ],
      "metadata": {
        "id": "lWp53OAQFbWT",
        "colab": {
          "base_uri": "https://localhost:8080/",
          "height": 465
        },
        "outputId": "51b659c5-9a02-42eb-f212-1dce53ee5bd4"
      },
      "execution_count": 3,
      "outputs": [
        {
          "output_type": "stream",
          "name": "stdout",
          "text": [
            "[4 0 1 6 3 2 4 0 1 6 3 2 4 0 1 6 3 2 4 0 1 6 3 2 4 0 1 6 3 2 4 0 1 6 3 2 4\n",
            " 0 1 6 3 2 4 0 1 6]\n"
          ]
        },
        {
          "output_type": "display_data",
          "data": {
            "text/plain": [
              "<Figure size 640x480 with 1 Axes>"
            ],
            "image/png": "[encoded data removed]"
          },
          "metadata": {}
        }
      ]
    },
    {
      "cell_type": "code",
      "source": [
        "#caso2\n",
        "x=7\n",
        "x1=np.array([x])\n",
        "n=45\n",
        "a=5\n",
        "c=1\n",
        "m=(7)\n",
        "for i in range(n):\n",
        "    x=(a*x+c)%m\n",
        "    x1=np.append(x1,x)\n",
        "print(x1)\n",
        "ind=np.arange(n+1)\n",
        "plt.bar(ind, x1)\n",
        "plt.show()"
      ],
      "metadata": {
        "colab": {
          "base_uri": "https://localhost:8080/",
          "height": 465
        },
        "id": "Tx94Gk-bLToN",
        "outputId": "a104b358-295b-44a0-fa28-e8b5feec6a40"
      },
      "execution_count": 4,
      "outputs": [
        {
          "output_type": "stream",
          "name": "stdout",
          "text": [
            "[7 1 6 3 2 4 0 1 6 3 2 4 0 1 6 3 2 4 0 1 6 3 2 4 0 1 6 3 2 4 0 1 6 3 2 4 0\n",
            " 1 6 3 2 4 0 1 6 3]\n"
          ]
        },
        {
          "output_type": "display_data",
          "data": {
            "text/plain": [
              "<Figure size 640x480 with 1 Axes>"
            ],
            "image/png": "[encoded data removed]"
          },
          "metadata": {}
        }
      ]
    },
    {
      "cell_type": "code",
      "source": [
        "#Questão 2A\n",
        "\n",
        "lambda1=10 #Número médio de requisições\n",
        "N=60 #Numero de amostras\n",
        "value=0\n",
        "count=0\n",
        "av=np.array([])\n",
        "x=np.random.uniform(0,1,N)\n",
        "for ix in x:\n",
        "    i = 0\n",
        "    pr = np.exp(-lambda1)\n",
        "    F=pr\n",
        "    while ix>=F:\n",
        "        pr=lambda1/(i+1)*pr\n",
        "        F = F + pr\n",
        "        i = i + 1;\n",
        "    a1=i\n",
        "    av=np.append(av,a1)\n",
        "\n",
        "print(av)\n",
        "\n",
        "for binvalue in av:\n",
        "    if binvalue==value:\n",
        "        count=count+1\n",
        "prob=count/N\n",
        "print(\"a probabilidade e\",prob)\n"
      ],
      "metadata": {
        "id": "tmbho585F3VY",
        "colab": {
          "base_uri": "https://localhost:8080/"
        },
        "outputId": "0d1458eb-f0a7-4209-8ad4-8347fd0a0009"
      },
      "execution_count": 5,
      "outputs": [
        {
          "output_type": "stream",
          "name": "stdout",
          "text": [
            "[10. 10. 16. 12. 11. 13. 13.  8. 15. 10.  8. 10. 10.  7.  7.  8.  6.  8.\n",
            "  9. 11.  9.  9.  7. 13. 12. 14.  8. 10. 11.  3. 10. 10. 15.  9. 10.  6.\n",
            "  6. 11. 11. 13.  3.  7. 11. 13.  9.  9.  5.  7.  8.  9.  8.  9. 15.  8.\n",
            " 18. 11. 10.  6. 12. 11.]\n",
            "a probabilidade e 0.0\n"
          ]
        }
      ]
    },
    {
      "cell_type": "code",
      "source": [
        "#Questão 2B\n",
        "\n",
        "lambda1=5 #Número médio de requisições\n",
        "N=100 #Numero de amostras\n",
        "value=8 #\n",
        "count=0\n",
        "av=np.array([])\n",
        "x=np.random.uniform(0,1,N)\n",
        "for ix in x:\n",
        "    i = 0\n",
        "    pr = np.exp(-lambda1)\n",
        "    F=pr\n",
        "    while ix>=F:\n",
        "        pr=lambda1/(i+1)*pr\n",
        "        F = F + pr\n",
        "        i = i + 1;\n",
        "    a1=i\n",
        "    av=np.append(av,a1)\n",
        "\n",
        "print(av)\n",
        "\n",
        "for binvalue in av:\n",
        "    if binvalue<value:\n",
        "        count=count+1\n",
        "prob=count/N\n",
        "print(\"a probabilidade e\",prob)"
      ],
      "metadata": {
        "id": "fE-8fD2fKFOy",
        "colab": {
          "base_uri": "https://localhost:8080/"
        },
        "outputId": "b406fd5a-6bed-42a1-97ff-6a32332e618a"
      },
      "execution_count": 6,
      "outputs": [
        {
          "output_type": "stream",
          "name": "stdout",
          "text": [
            "[ 6.  1.  2.  5.  6. 11.  4.  6.  5.  4.  8.  1.  4.  4.  2.  1.  6.  5.\n",
            "  2.  2.  3.  7.  1.  7.  5.  8.  3. 11.  2.  6.  4.  1.  1.  7.  3.  4.\n",
            "  3.  4.  6.  7.  1.  3.  8.  6. 12.  6.  5. 10.  3.  2.  7.  7.  6.  8.\n",
            "  7.  5.  9.  5.  4.  3.  7.  6.  6.  2.  7.  4.  6.  5.  2.  6.  5.  6.\n",
            "  4.  7.  2.  9.  6.  6.  5.  4.  8.  7.  4.  4.  8.  8.  6.  5.  8.  4.\n",
            "  2.  4.  3.  9.  8.  8.  4.  8.  5.  2.]\n",
            "a probabilidade e 0.82\n"
          ]
        }
      ]
    },
    {
      "cell_type": "code",
      "source": [
        "#Questão 3A\n",
        "\n",
        "q=0.15 #Probabilidade de acerto para econtrar o objetivo\n",
        "n=8 #Número de tentativas\n",
        "value=2 #valor do erro buscado\n",
        "N=100000#Número de amostras\n",
        "c = q/(1-q)\n",
        "av=np.array([])\n",
        "count=0\n",
        "x=np.random.uniform(0,1,N)\n",
        "for ix in x:\n",
        "    i = 0\n",
        "    pr = pow((1 - q),n)\n",
        "    F = pr\n",
        "    while ix>=F:\n",
        "        pr = (c * (n - i) / (i + 1))* pr;\n",
        "        F = F + pr;\n",
        "        i = i + 1;\n",
        "    a1=i\n",
        "    av=np.append(av,a1)\n",
        "\n",
        "print(av)\n",
        "\n",
        "for binvalue in av:\n",
        "    if binvalue>=value:\n",
        "        count=count+1\n",
        "prob=count/N\n",
        "print(\"a probabilidade e\",prob)"
      ],
      "metadata": {
        "id": "_4WC-1wtJNEX",
        "colab": {
          "base_uri": "https://localhost:8080/"
        },
        "outputId": "9e7d900b-0156-481f-b3d0-b9dcc6f1b0dd"
      },
      "execution_count": 7,
      "outputs": [
        {
          "output_type": "stream",
          "name": "stdout",
          "text": [
            "[2. 3. 4. ... 1. 0. 1.]\n",
            "a probabilidade e 0.34285\n"
          ]
        }
      ]
    },
    {
      "cell_type": "code",
      "source": [
        "#Questão 3B\n",
        "\n",
        "q=0.15 #Probabilidade de acerto ao encontrar o objetivo\n",
        "n=8 #Número de tentativas\n",
        "value=6 #valor de ero buscado\n",
        "N=100000#Número de amostras\n",
        "c = q/(1-q)\n",
        "av=np.array([])\n",
        "count=0\n",
        "x=np.random.uniform(0,1,N)\n",
        "for ix in x:\n",
        "    i = 0\n",
        "    pr = pow((1 - q),n)\n",
        "    F = pr\n",
        "    while ix>=F:\n",
        "        pr = (c * (n - i) / (i + 1))* pr;\n",
        "        F = F + pr;\n",
        "        i = i + 1;\n",
        "    a1=i\n",
        "    av=np.append(av,a1)\n",
        "\n",
        "print(av)\n",
        "\n",
        "for binvalue in av:\n",
        "    if binvalue>=value:\n",
        "        count=count+1\n",
        "prob=count/N\n",
        "print(\"a probabilidade e\",prob)"
      ],
      "metadata": {
        "id": "X8nOLeP2NO4M",
        "colab": {
          "base_uri": "https://localhost:8080/"
        },
        "outputId": "1c116ed9-1196-47fc-881d-31f7b0abb349"
      },
      "execution_count": 8,
      "outputs": [
        {
          "output_type": "stream",
          "name": "stdout",
          "text": [
            "[1. 1. 1. ... 0. 2. 1.]\n",
            "a probabilidade e 0.00021\n"
          ]
        }
      ]
    },
    {
      "cell_type": "code",
      "source": [
        "#Questão 4\n",
        "\n",
        "lambda1=14 #Número de dias onde ocorrem as falhas\n",
        "N=100 #Numero de amostras\n",
        "value=2 # número de falhas que ocorrem no período\n",
        "count=0\n",
        "av=np.array([])\n",
        "x=np.random.uniform(0,1,N)\n",
        "for ix in x:\n",
        "    i = 0\n",
        "    pr = np.exp(-lambda1)\n",
        "    F=pr\n",
        "    while ix>=F:\n",
        "        pr=lambda1/(i+1)*pr\n",
        "        F = F + pr\n",
        "        i = i + 1;\n",
        "    a1=i\n",
        "    av=np.append(av,a1)\n",
        "\n",
        "print(av)\n",
        "\n",
        "for binvalue in av:\n",
        "    if binvalue==value:\n",
        "        count=count+1\n",
        "prob=count/N\n",
        "print(\"a probabilidade e\",prob)"
      ],
      "metadata": {
        "id": "5nu1_b5DNn9H",
        "colab": {
          "base_uri": "https://localhost:8080/"
        },
        "outputId": "58ca5659-e3b7-467a-f55d-9127c7f0ad88"
      },
      "execution_count": 9,
      "outputs": [
        {
          "output_type": "stream",
          "name": "stdout",
          "text": [
            "[15. 16. 15. 25.  9. 17. 15. 21. 10. 13. 10. 16. 12.  9. 10. 10. 12. 15.\n",
            " 13. 14. 12. 14. 14.  9.  9. 11. 17. 11.  8. 15. 11. 15. 13. 11. 14. 14.\n",
            " 15. 14. 16. 19.  8. 14. 20. 16. 14.  5. 11. 10. 15. 12. 14. 15. 14. 18.\n",
            " 12.  6. 10. 14. 17. 16. 17. 17. 15. 11. 13.  9. 13.  7. 14. 15. 16. 15.\n",
            " 18. 22. 14. 14. 13. 17. 12. 18. 20. 11. 10. 12. 11. 15. 21.  9. 10. 13.\n",
            " 13. 13.  7. 19. 14. 13. 11. 14.  7.  9.]\n",
            "a probabilidade e 0.0\n"
          ]
        }
      ]
    },
    {
      "cell_type": "code",
      "source": [
        "#Questão  5\n",
        "\n",
        "N=10000\n",
        "lambda1=1/8\n",
        "x=np.random.uniform(0,1,N)\n",
        "value=26\n",
        "Xexp=-np.log(x)/lambda1\n",
        "count=0\n",
        "print(Xexp)\n",
        "\n",
        "\n",
        "for expvalue in Xexp:\n",
        "    if expvalue<=value:\n",
        "        count=count+1\n",
        "prob=count/N\n",
        "print(\"a probabilidade e\",prob)\n",
        "\n",
        "Probana=1-np.exp(-lambda1*value)\n",
        "print(\"a probabilidade analítica e\",Probana)"
      ],
      "metadata": {
        "id": "WXuK7WsSSFfc",
        "colab": {
          "base_uri": "https://localhost:8080/"
        },
        "outputId": "5380789d-99b1-4862-db5d-226aa052092b"
      },
      "execution_count": 10,
      "outputs": [
        {
          "output_type": "stream",
          "name": "stdout",
          "text": [
            "[ 3.32805662 16.23965938  1.16095064 ...  1.41537668  1.69464467\n",
            "  1.39012377]\n",
            "a probabilidade e 0.9596\n",
            "a probabilidade analítica e 0.961225792168278\n"
          ]
        }
      ]
    },
    {
      "cell_type": "code",
      "source": [
        "#Questão 6\n",
        "\n",
        "def geometric_random_variable(p):\n",
        "    u = np.random.rand() # Gerando variável aleatória uniforme entre 0 e\n",
        "    x = np.ceil(np.log(1 - u) / np.log(1 - p)) # Usando método inverso da CDF da distribuição geométrica\n",
        "    return x\n",
        "\n",
        "def calculate_probability(p, num_trials, num_simulations):\n",
        "    successes = 0\n",
        "    for _ in range(num_simulations):\n",
        "        # Simulando a retirada de bolas até a 6ª bola ser preta\n",
        "        draws_until_black = geometric_random_variable(p)\n",
        "        if draws_until_black == num_trials:\n",
        "            successes += 1\n",
        "    probability = successes / num_simulations\n",
        "    return probability\n",
        "\n",
        "# Parâmetros do problema\n",
        "p_success_black = 20 / 50  # Probabilidade de retirar uma bola preta\n",
        "num_trials = 6  # Número de tentativas até o sucesso\n",
        "num_simulations = 100000  # Número de simulações\n",
        "\n",
        "# Calcular a probabilidade\n",
        "probability = calculate_probability(p_success_black, num_trials, num_simulations)\n",
        "print(\"Probabilidade de que a 6ª bola retirada com reposição seja a primeira bola preta:\", probability)\n",
        "\n",
        "# Após o número de 100000(cem mil) simulações   a probailiadde não se altera muito.\n"
      ],
      "metadata": {
        "id": "Txe1oV0UTFal",
        "colab": {
          "base_uri": "https://localhost:8080/"
        },
        "outputId": "7a3ad2c3-bab8-49f3-8dbb-6e4389d7b8c2"
      },
      "execution_count": 20,
      "outputs": [
        {
          "output_type": "stream",
          "name": "stdout",
          "text": [
            "Probabilidade de que a 6ª bola retirada com reposição seja a primeira bola preta: 0.03114\n"
          ]
        }
      ]
    },
    {
      "cell_type": "code",
      "source": [
        "#Questão 7\n",
        "\n",
        "#Para gerar amostras de uma distribuição usando o método da inversa, precisamos calcular\n",
        "#a função de distribuição acumulada (CDF) inversa da distribuição.\n",
        "#Geramos amostras da distribuição usando o método da inversa calculando a função de distribuição acumulada (CDF)\n",
        "#inversa da distribuição dada\n",
        "\n",
        "def inverse_cdf_sample(u):\n",
        "    return np.log(u * (np.exp(2) - 1) + 1)\n",
        "\n",
        "def generate_samples(num_samples):\n",
        "    # Gerar amostras uniformemente distribuídas entre 0 e 1\n",
        "    uniform_samples = np.random.rand(num_samples)\n",
        "    # Aplicar a função inversa da CDF às amostras uniformes\n",
        "    samples = inverse_cdf_sample(uniform_samples)\n",
        "    return samples\n",
        "\n",
        "# Número de amostras a serem geradas\n",
        "num_samples = 10000\n",
        "\n",
        "# Gerar amostras\n",
        "samples = generate_samples(num_samples)\n",
        "\n",
        "# Exibir algumas amostras geradas\n",
        "print(\"Algumas amostras geradas:\")\n",
        "print(samples[:30])\n"
      ],
      "metadata": {
        "colab": {
          "base_uri": "https://localhost:8080/"
        },
        "id": "VkMX8XQnuEQc",
        "outputId": "13b58b00-f100-43ad-d637-cb955d06b946"
      },
      "execution_count": 22,
      "outputs": [
        {
          "output_type": "stream",
          "name": "stdout",
          "text": [
            "Algumas amostras geradas:\n",
            "[1.11365638 1.61309285 1.94889608 1.91572794 0.52138108 1.93108229\n",
            " 1.71636256 0.72215342 1.26542713 0.88487625 1.28417513 1.13069323\n",
            " 1.86101215 1.98914492 1.4108448  1.65025287 1.41689033 0.8221803\n",
            " 1.64431298 1.91564609 1.76537682 1.51300051 1.54107161 1.24659794\n",
            " 1.11920411 1.82511408 1.6293968  1.9656105  1.50971915 1.97082214]\n"
          ]
        }
      ]
    },
    {
      "cell_type": "code",
      "source": [
        "#Questão 8\n",
        "\n",
        "# Utilizamos a função pdf(x) para calcular o valor da PDF para um dado valor de x e\n",
        "# A função generate_samples(num_samples) gera amostras utilizando o método da aceitação/rejeição.\n",
        "# Ela gera amostras uniformemente distribuídas no intervalo −1<x<1 e as aceita com probabilidade proporcional à PDF(x)\n",
        "# na função num_samples podemos conforme necessário obter um número adequado de amostras para a precisão desejada\n",
        "\n",
        "def pdf(x):\n",
        "    return 1.5 * x**2\n",
        "\n",
        "def generate_samples(num_samples):\n",
        "    samples = []\n",
        "    max_pdf = pdf(0)  # Valor máximo da PDF ocorre em x = 0\n",
        "    while len(samples) < num_samples:\n",
        "        x = np.random.uniform(-1, 1)  # Amostra aleatória uniforme entre -1 e 1\n",
        "        y = np.random.uniform(0, max_pdf)  # Amostra aleatória uniforme entre 0 e o máximo da PDF\n",
        "        if y < pdf(x):  # Aceita a amostra com probabilidade proporcional à PDF\n",
        "            samples.append(x)\n",
        "    return np.array(samples)\n",
        "\n",
        "# Gerar amostras\n",
        "num_samples = 10000\n",
        "samples = generate_samples(num_samples)\n",
        "\n",
        "# Plotar a PDF analítica\n",
        "x_values = np.linspace(-1, 1, 1000)\n",
        "plt.plot(x_values, pdf(x_values), label='PDF Analítica')\n",
        "\n",
        "# Plotar o histograma normalizado das amostras\n",
        "plt.hist(samples, bins=50, density=True, alpha=0.5, label='Histograma Normalizado')\n",
        "\n",
        "plt.xlabel('x')\n",
        "plt.ylabel('Densidade de Probabilidade')\n",
        "plt.title('PDF Analítica e Histograma Normalizado')\n",
        "plt.legend()\n",
        "plt.grid(True)\n",
        "plt.show()\n"
      ],
      "metadata": {
        "colab": {
          "base_uri": "https://localhost:8080/",
          "height": 472
        },
        "id": "6tObgEd_xz6X",
        "outputId": "647a8578-d5d3-4115-cd6c-bbcd82fcc3a3"
      },
      "execution_count": 25,
      "outputs": [
        {
          "output_type": "display_data",
          "data": {
            "text/plain": [
              "<Figure size 640x480 with 1 Axes>"
            ],
            "image/png": "[encoded data removed]"
          },
          "metadata": {}
        }
      ]
    }
  ]
}