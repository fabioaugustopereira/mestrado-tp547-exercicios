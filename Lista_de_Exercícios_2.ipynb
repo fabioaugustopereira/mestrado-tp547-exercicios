{
  "nbformat": 4,
  "nbformat_minor": 0,
  "metadata": {
    "colab": {
      "provenance": [],
      "authorship_tag": "ABX9TyP0qF6FKVIOPz4B/Ygwy0hS",
      "include_colab_link": true
    },
    "kernelspec": {
      "name": "python3",
      "display_name": "Python 3"
    },
    "language_info": {
      "name": "python"
    }
  },
  "cells": [
    {
      "cell_type": "markdown",
      "metadata": {
        "id": "view-in-github",
        "colab_type": "text"
      },
      "source": [
        "<a href=\"https://colab.research.google.com/github/fabioaugustopereira/mestrado-tp547-exercicios/blob/main/Lista_de_Exerc%C3%ADcios_2.ipynb\" target=\"_parent\"><img src=\"https://colab.research.google.com/assets/colab-badge.svg\" alt=\"Open In Colab\"/></a>"
      ]
    },
    {
      "cell_type": "code",
      "source": [
        "#importando biblioteca\n",
        "from math import factorial"
      ],
      "metadata": {
        "id": "eSoQsB8lYmis"
      },
      "execution_count": 4,
      "outputs": []
    },
    {
      "cell_type": "code",
      "execution_count": 5,
      "metadata": {
        "id": "1CnoGBIyYCsK"
      },
      "outputs": [],
      "source": [
        "# Nesta célula define-se o número de bolas azuis e roxas contidas no chapéu e\n",
        "# o número total de bolas\n",
        "# A probabilidade de retirada de bolas azuis e roxas é o mesmo, já que o número de bolas é idêntico\n",
        "\n",
        "def probabilidade_com_reposicao():\n",
        "    # Número de bolas azuis, roxas e total\n",
        "    bolas_azuis = 10\n",
        "    bolas_roxas = 10\n",
        "    total_bolas = 40\n",
        "\n",
        "    # Probabilidade de tirar uma bola azul ou roxa em uma seleção, corresponde à divisão\n",
        "    # do número de bolas azuis(roxas) dividido pelo número total de bolas\n",
        "    probabilidade_azul_roxa = bolas_azuis / total_bolas\n",
        "\n",
        "    # Calculando a probabilidade de obter exatamente duas bolas azuis e duas bolas roxas\n",
        "    probabilidade_total = (probabilidade_azul_roxa ** 2) * ((1 - probabilidade_azul_roxa) ** 6) * \\\n",
        "                          (45 ** 2)\n",
        "\n",
        "    return probabilidade_total\n"
      ]
    },
    {
      "cell_type": "code",
      "source": [
        "# Nesta célula se calcula a probabilidade utilizando a regra do cálculo do coeficiente binomial\n",
        "\n",
        "def probabilidade_sem_reposicao():\n",
        "\n",
        "    # Número de bolas azuis, roxas e total\n",
        "    bolas_azuis = 10\n",
        "    bolas_roxas = 10\n",
        "\n",
        "    # Número total de bolas\n",
        "    total_bolas = 40\n",
        "\n",
        "    # Calculando o número total de maneiras de escolher 10 bolas sem reposição\n",
        "    numero_total_selecoes = factorial(total_bolas) / (factorial(10) * factorial(total_bolas - 10))\n",
        "\n",
        "    # Calculando o número total de maneiras de escolher 2 bolas azuis e 2 bolas roxas sem reposição\n",
        "    numero_total_2_azuis_2_roxas = (factorial(bolas_azuis) / (factorial(2) * factorial(bolas_azuis - 2))) * \\\n",
        "                                    (factorial(bolas_roxas) / (factorial(2) * factorial(bolas_roxas - 2)))\n",
        "\n",
        "    # Calculando a probabilidade total\n",
        "    probabilidade_total = (numero_total_2_azuis_2_roxas / numero_total_selecoes)\n",
        "\n",
        "    return probabilidade_total\n"
      ],
      "metadata": {
        "id": "LgJ1pE4PYKS1"
      },
      "execution_count": 6,
      "outputs": []
    },
    {
      "cell_type": "code",
      "source": [
        "prob_com_reposicao = probabilidade_com_reposicao()\n",
        "print(\"Probabilidade com reposição:\", prob_com_reposicao)\n",
        "\n",
        "prob_sem_reposicao = probabilidade_sem_reposicao()\n",
        "print(\"Probabilidade sem reposição:\", prob_sem_reposicao)\n"
      ],
      "metadata": {
        "colab": {
          "base_uri": "https://localhost:8080/"
        },
        "id": "7O4Z2tjmYRai",
        "outputId": "d4066fba-405a-425f-fab0-d70bca4f9ccc"
      },
      "execution_count": 7,
      "outputs": [
        {
          "output_type": "stream",
          "name": "stdout",
          "text": [
            "Probabilidade com reposição: 22.525405883789062\n",
            "Probabilidade sem reposição: 2.3889280355873782e-06\n"
          ]
        }
      ]
    }
  ]
}