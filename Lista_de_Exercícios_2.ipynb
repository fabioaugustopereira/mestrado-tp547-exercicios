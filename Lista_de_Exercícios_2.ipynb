{
  "nbformat": 4,
  "nbformat_minor": 0,
  "metadata": {
    "colab": {
      "provenance": [],
      "authorship_tag": "ABX9TyNDG8a0leHRe0+SIKGpkh22",
      "include_colab_link": true
    },
    "kernelspec": {
      "name": "python3",
      "display_name": "Python 3"
    },
    "language_info": {
      "name": "python"
    }
  },
  "cells": [
    {
      "cell_type": "markdown",
      "metadata": {
        "id": "view-in-github",
        "colab_type": "text"
      },
      "source": [
        "<a href=\"https://colab.research.google.com/github/fabioaugustopereira/mestrado-tp547-exercicios/blob/main/Lista_de_Exerc%C3%ADcios_2.ipynb\" target=\"_parent\"><img src=\"https://colab.research.google.com/assets/colab-badge.svg\" alt=\"Open In Colab\"/></a>"
      ]
    },
    {
      "cell_type": "markdown",
      "source": [
        "# Questão 01"
      ],
      "metadata": {
        "id": "0Ht-mR0rc5zT"
      }
    },
    {
      "cell_type": "code",
      "source": [
        "#importando biblioteca\n",
        "from math import factorial"
      ],
      "metadata": {
        "id": "eSoQsB8lYmis"
      },
      "execution_count": 4,
      "outputs": []
    },
    {
      "cell_type": "code",
      "execution_count": 5,
      "metadata": {
        "id": "1CnoGBIyYCsK"
      },
      "outputs": [],
      "source": [
        "# Nesta célula define-se o número de bolas azuis e roxas contidas no chapéu e\n",
        "# o número total de bolas\n",
        "# A probabilidade de retirada de bolas azuis e roxas é o mesmo, já que o número de bolas é idêntico\n",
        "\n",
        "def probabilidade_com_reposicao():\n",
        "    # Número de bolas azuis, roxas e total\n",
        "    bolas_azuis = 10\n",
        "    bolas_roxas = 10\n",
        "    total_bolas = 40\n",
        "\n",
        "    # Probabilidade de tirar uma bola azul ou roxa em uma seleção, corresponde à divisão\n",
        "    # do número de bolas azuis(roxas) dividido pelo número total de bolas\n",
        "    probabilidade_azul_roxa = bolas_azuis / total_bolas\n",
        "\n",
        "    # Calculando a probabilidade de obter exatamente duas bolas azuis e duas bolas roxas\n",
        "    probabilidade_total = (probabilidade_azul_roxa ** 2) * ((1 - probabilidade_azul_roxa) ** 6) * \\\n",
        "                          (45 ** 2)\n",
        "\n",
        "    return probabilidade_total\n"
      ]
    },
    {
      "cell_type": "code",
      "source": [
        "# Nesta célula se calcula a probabilidade utilizando a regra do cálculo do coeficiente binomial\n",
        "\n",
        "def probabilidade_sem_reposicao():\n",
        "\n",
        "    # Número de bolas azuis, roxas e total\n",
        "    bolas_azuis = 10\n",
        "    bolas_roxas = 10\n",
        "\n",
        "    # Número total de bolas\n",
        "    total_bolas = 40\n",
        "\n",
        "    # Calculando o número total de maneiras de escolher 10 bolas sem reposição\n",
        "    numero_total_selecoes = factorial(total_bolas) / (factorial(10) * factorial(total_bolas - 10))\n",
        "\n",
        "    # Calculando o número total de maneiras de escolher 2 bolas azuis e 2 bolas roxas sem reposição\n",
        "    numero_total_2_azuis_2_roxas = (factorial(bolas_azuis) / (factorial(2) * factorial(bolas_azuis - 2))) * \\\n",
        "                                    (factorial(bolas_roxas) / (factorial(2) * factorial(bolas_roxas - 2)))\n",
        "\n",
        "    # Calculando a probabilidade total\n",
        "    probabilidade_total = (numero_total_2_azuis_2_roxas / numero_total_selecoes)\n",
        "\n",
        "    return probabilidade_total\n"
      ],
      "metadata": {
        "id": "LgJ1pE4PYKS1"
      },
      "execution_count": 6,
      "outputs": []
    },
    {
      "cell_type": "code",
      "source": [
        "prob_com_reposicao = probabilidade_com_reposicao()\n",
        "print(\"Probabilidade com reposição:\", prob_com_reposicao)\n",
        "\n",
        "prob_sem_reposicao = probabilidade_sem_reposicao()\n",
        "print(\"Probabilidade sem reposição:\", prob_sem_reposicao)\n"
      ],
      "metadata": {
        "colab": {
          "base_uri": "https://localhost:8080/"
        },
        "id": "7O4Z2tjmYRai",
        "outputId": "d4066fba-405a-425f-fab0-d70bca4f9ccc"
      },
      "execution_count": 7,
      "outputs": [
        {
          "output_type": "stream",
          "name": "stdout",
          "text": [
            "Probabilidade com reposição: 22.525405883789062\n",
            "Probabilidade sem reposição: 2.3889280355873782e-06\n"
          ]
        }
      ]
    },
    {
      "cell_type": "markdown",
      "source": [
        "# Questão 2"
      ],
      "metadata": {
        "id": "rUoXqEdGdLaI"
      }
    },
    {
      "cell_type": "code",
      "source": [
        "import random\n",
        "\n",
        "# Primeiro definimos uma função para simular o dado numerado de 1 a 6, onde é gerado o valor\n",
        "# até que o valor retornado seja o desejado no enunciado no caso 6.\n",
        "\n",
        "def lancar_dados(n_dados):\n",
        "    for _ in range(n_dados):\n",
        "        # Simula o lançamento de um dado (gera um número aleatório entre 1 e 6)\n",
        "        resultado = random.randint(1, 6)\n",
        "        if resultado == 6:\n",
        "            return True  # Se um dado mostrar 6, retorna True\n",
        "    return False  # Se nenhum dado mostrar 6, retorna False\n",
        "\n",
        "\n",
        "# Nesta função é simulado o número de dados em lançamento simultâneos para que seja\n",
        "# alcançado o valor de 6 em algum dos dados\n",
        "\n",
        "def estimar_probabilidade_lancamento(n_simulacoes, n_dados):\n",
        "\n",
        "    # Contador para contar quantas vezes pelo menos um dado mostra o número 6\n",
        "    contagem_seis = 0\n",
        "\n",
        "    # Realiza as simulações\n",
        "    for _ in range(n_simulacoes):\n",
        "        if lancar_dados(n_dados):\n",
        "            contagem_seis += 1\n",
        "\n",
        "    # Calcula a probabilidade como a proporção de simulações em que pelo menos um dado mostra 6\n",
        "    probabilidade = contagem_seis / n_simulacoes\n",
        "    return probabilidade\n",
        "\n",
        "# Número de dados e número de simulações\n",
        "n_dados = 5\n",
        "n_simulacoes = 100000\n",
        "\n",
        "# Estima a probabilidade\n",
        "probabilidade = estimar_probabilidade_lancamento(n_simulacoes, n_dados)\n",
        "\n",
        "# Exibe o resultado\n",
        "print(f\"Estimativa da probabilidade de pelo menos um dado mostrar 6 em {n_dados} lançamentos: {probabilidade:.4f}\")\n"
      ],
      "metadata": {
        "colab": {
          "base_uri": "https://localhost:8080/"
        },
        "id": "cix_ovBddWr3",
        "outputId": "dee2a1f0-7a63-4899-a02f-713dce7f83cb"
      },
      "execution_count": 9,
      "outputs": [
        {
          "output_type": "stream",
          "name": "stdout",
          "text": [
            "Estimativa da probabilidade de pelo menos um dado mostrar 6 em 5 lançamentos: 0.5986\n"
          ]
        }
      ]
    },
    {
      "cell_type": "markdown",
      "source": [
        "# Questão 3"
      ],
      "metadata": {
        "id": "7Z_ZP7u7tiIy"
      }
    },
    {
      "cell_type": "code",
      "source": [
        "import random\n",
        "\n",
        "# Simula o lançamento de um dado (gera um número aleatório entre 1 e 6)\n",
        "def lancar_dados(n_dados):\n",
        "    return sum(random.randint(1, 6) for _ in range(n_dados))\n",
        "\n",
        "\n",
        "# Simula um número aleatório de lançamento de dados somando os resultados para\n",
        "# se obter um valor médio menor que 9\n",
        "\n",
        "def simular_jogo(n_simulacoes, n_dados, valor_retorno):\n",
        "    saldo_total = 0\n",
        "    for _ in range(n_simulacoes):\n",
        "        soma = lancar_dados(n_dados)\n",
        "        if soma < 9:\n",
        "            saldo_total += valor_retorno\n",
        "        else:\n",
        "            saldo_total -= 1\n",
        "    saldo_medio = saldo_total / n_simulacoes\n",
        "    return saldo_medio\n",
        "\n",
        "# Parâmetros do jogo\n",
        "n_simulacoes = 100000  # Número de simulações\n",
        "n_dados = 4            # Número de dados a serem lançados\n",
        "valor_retorno = 10     # Valor retornado se a soma for inferior a 9\n",
        "\n",
        "# Simular o jogo\n",
        "saldo_medio = simular_jogo(n_simulacoes, n_dados, valor_retorno)\n",
        "\n",
        "# Verificar se ganhou ou perdeu dinheiro a longo prazo\n",
        "if saldo_medio > 0:\n",
        "    print(f\"A longo prazo, você ganhará em média R$ {saldo_medio:.2f} por jogo.\")\n",
        "elif saldo_medio < 0:\n",
        "    print(f\"A longo prazo, você perderá em média R$ {-saldo_medio:.2f} por jogo.\")\n",
        "else:\n",
        "    print(\"A longo prazo, você não ganhará nem perderá dinheiro em média por jogo.\")\n"
      ],
      "metadata": {
        "colab": {
          "base_uri": "https://localhost:8080/"
        },
        "id": "a1FW55Natmoq",
        "outputId": "a811b744-5dd2-4b9b-fad5-f48c94718769"
      },
      "execution_count": 14,
      "outputs": [
        {
          "output_type": "stream",
          "name": "stdout",
          "text": [
            "A longo prazo, você perderá em média R$ 0.42 por jogo.\n"
          ]
        }
      ]
    },
    {
      "cell_type": "markdown",
      "source": [
        "#Questão 4\n"
      ],
      "metadata": {
        "id": "8mlxz5SPvEY5"
      }
    },
    {
      "cell_type": "code",
      "source": [],
      "metadata": {
        "id": "PnITwkN_vGj6"
      },
      "execution_count": null,
      "outputs": []
    }
  ]
}